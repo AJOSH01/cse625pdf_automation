{
 "cells": [
  {
   "cell_type": "markdown",
   "metadata": {},
   "source": [
    "# Random 5x5 Array Example"
   ]
  },
  {
   "cell_type": "code",
   "execution_count": 1,
   "metadata": {},
   "outputs": [],
   "source": [
    "import numpy as np\n",
    "\n",
    "a = np.random.randint(low=0, high=2, size=(5, 5))"
   ]
  },
  {
   "cell_type": "code",
   "execution_count": 2,
   "metadata": {},
   "outputs": [
    {
     "data": {
      "text/plain": [
       "array([[1, 1, 0, 1, 0],\n",
       "       [1, 0, 0, 0, 0],\n",
       "       [0, 1, 1, 1, 1],\n",
       "       [0, 1, 0, 0, 0],\n",
       "       [1, 0, 1, 1, 0]])"
      ]
     },
     "execution_count": 2,
     "metadata": {},
     "output_type": "execute_result"
    }
   ],
   "source": [
    "a"
   ]
  },
  {
   "cell_type": "markdown",
   "metadata": {},
   "source": [
    "|**Vector size**       | 14,000,000 | 16,000,000 | 16,700,000 | 16,777,216 | 17,000,000 |\n",
    "| ---------------- | ---------- | ---------- | ---------- | ---------- | ---------- |  \n",
    "|Seq dot result    |      \n",
    "|Thread dot result |      \n",
    "|Seq runtime (s)   |      \n",
    "|Thread runtime (s)|"
   ]
  },
  {
   "cell_type": "markdown",
   "metadata": {},
   "source": [
    "# Problem 1"
   ]
  },
  {
   "cell_type": "markdown",
   "metadata": {},
   "source": [
    "## 1.1 \n",
    "Justification of T() function from 1_Introduction_Problem_Analysis as given in 1.1_Speedup.ipynb is correct"
   ]
  },
  {
   "cell_type": "markdown",
   "metadata": {},
   "source": [
    "## 1.2 \n",
    "Plot of Speedup() a = 1, b = 1,2,3 Given n = 1024"
   ]
  },
  {
   "cell_type": "markdown",
   "metadata": {},
   "source": [
    "# Problem 2"
   ]
  },
  {
   "cell_type": "markdown",
   "metadata": {},
   "source": [
    "## 2.1\n",
    "Explanation of ILP and its limitation in speeding up computing"
   ]
  },
  {
   "cell_type": "markdown",
   "metadata": {},
   "source": [
    "# Problem 3"
   ]
  },
  {
   "cell_type": "markdown",
   "metadata": {},
   "source": [
    "## Using Timer_Demo to measure execution times for dot product functions."
   ]
  },
  {
   "cell_type": "markdown",
   "metadata": {},
   "source": [
    "|**Vector size**       | 14,000,000 | 16,000,000 | 16,700,000 | 16,777,216 | 17,000,000 |\n",
    "| ---------------- | ---------- | ---------- | ---------- | ---------- | ---------- |  \n",
    "|Seq dot result    |      \n",
    "|Thread dot result |      \n",
    "|Seq runtime (s)   |      \n",
    "|Thread runtime (s)|"
   ]
  },
  {
   "cell_type": "markdown",
   "metadata": {},
   "source": [
    "### Explanation of dot product result accuracy and proposal to fix the problem:"
   ]
  },
  {
   "cell_type": "markdown",
   "metadata": {},
   "source": [
    "# Problem 4"
   ]
  },
  {
   "cell_type": "markdown",
   "metadata": {},
   "source": [
    "## Running C++_ThreadDemos to explain thread safety"
   ]
  },
  {
   "cell_type": "markdown",
   "metadata": {},
   "source": [
    "(insert screenshots and explain)"
   ]
  },
  {
   "cell_type": "markdown",
   "metadata": {},
   "source": [
    "# Problem 5\n",
    "\n",
    "Using C++_ThreadDemos to demonstrate concurrent threads"
   ]
  },
  {
   "cell_type": "markdown",
   "metadata": {},
   "source": [
    "## 5.1\n",
    "\n",
    "(Insert Screenshot)\n",
    "\n",
    "Explain the logic of the parallel computation of Fibonacci numbers and its efficiency"
   ]
  },
  {
   "cell_type": "markdown",
   "metadata": {},
   "source": [
    "## 5.2\n",
    "\n",
    "Explanation of void fibo() being thread safe"
   ]
  }
 ],
 "metadata": {
  "kernelspec": {
   "display_name": "CSE625",
   "language": "python",
   "name": "python3"
  },
  "language_info": {
   "codemirror_mode": {
    "name": "ipython",
    "version": 3
   },
   "file_extension": ".py",
   "mimetype": "text/x-python",
   "name": "python",
   "nbconvert_exporter": "python",
   "pygments_lexer": "ipython3",
   "version": "3.10.14"
  }
 },
 "nbformat": 4,
 "nbformat_minor": 2
}
